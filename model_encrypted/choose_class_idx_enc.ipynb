{
 "cells": [
  {
   "cell_type": "code",
   "execution_count": 2,
   "metadata": {},
   "outputs": [
    {
     "name": "stdout",
     "output_type": "stream",
     "text": [
      "[472 361]\n",
      "[472 361 991 143]\n",
      "[472 361 991 143 390 297 485 540]\n",
      "[472 361 991 143 390 297 485 540 307 783 148  28 351 645 879 333]\n",
      "[472 361 991 143 390 297 485 540 307 783 148  28 351 645 879 333 957 724\n",
      " 444  36 902 564 887 916 947 709 180 917 945  14 207 762]\n",
      "[472 361 991 143 390 297 485 540 307 783 148  28 351 645 879 333 957 724\n",
      " 444  36 902 564 887 916 947 709 180 917 945  14 207 762 139 222 750 723\n",
      " 505 976 741  61 453 410 721 194 580 690 761 336  43 402 237 216 583 303\n",
      " 349 891  76 458 128 597 846 178 235 909]\n"
     ]
    }
   ],
   "source": [
    "\"\"\"\n",
    "This cell writes the desired class labels into files (encrypted channel)\n",
    "\"\"\"\n",
    "# import numpy as np\n",
    "# import os\n",
    "\n",
    "# class_idx_dir = \"/home/zl310/cs585_project/vmoe/chosen_class_idx_encrypted/\"\n",
    "# rng = np.random.default_rng()\n",
    "# num_total_classes = 1000\n",
    "# num_chosen_classes_list = [2, 4, 8, 16, 32, 64]\n",
    "\n",
    "# class_idx = np.array(range(num_total_classes))\n",
    "# chosen_64 = rng.permutation(class_idx)[0:64]\n",
    "\n",
    "# for num_chosen_classes in num_chosen_classes_list:\n",
    "#     chosen_class_idx = chosen_64[0:num_chosen_classes]\n",
    "#     np.save(os.path.join(class_idx_dir, f\"n_{num_chosen_classes}.npy\"), chosen_class_idx)\n",
    "\n",
    "import numpy as np\n",
    "import os\n",
    "\n",
    "class_idx_dir = \"/home/zl310/cs585_project/vmoe/chosen_class_idx_encrypted/\"\n",
    "num_chosen_classes_list = [2, 4, 8, 16, 32, 64]\n",
    "\n",
    "for num_chosen_classes in num_chosen_classes_list:\n",
    "    test_file = np.load(os.path.join(class_idx_dir, f\"n_{num_chosen_classes}.npy\"))\n",
    "    print(test_file)"
   ]
  }
 ],
 "metadata": {
  "kernelspec": {
   "display_name": "cs585_tf_google",
   "language": "python",
   "name": "cs585_tf_google"
  },
  "language_info": {
   "codemirror_mode": {
    "name": "ipython",
    "version": 3
   },
   "file_extension": ".py",
   "mimetype": "text/x-python",
   "name": "python",
   "nbconvert_exporter": "python",
   "pygments_lexer": "ipython3",
   "version": "3.10.14"
  }
 },
 "nbformat": 4,
 "nbformat_minor": 2
}
