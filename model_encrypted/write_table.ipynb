{
 "cells": [
  {
   "cell_type": "code",
   "execution_count": 2,
   "metadata": {},
   "outputs": [
    {
     "name": "stdout",
     "output_type": "stream",
     "text": [
      "['-', 0.25, 0.375, 0.5, 0.625, 0.75, 0.875] 7\n",
      "[2, 'NA', 'NA', 'NA', 0.96, 1.0, 1.0] 7\n",
      "[4, 'NA', 0.5930232558139535, 0.9384615384615385, 1.0, 1.0, 1.0] 7\n",
      "[8, 0.4268774703557312, 0.7660818713450293, 0.9457364341085271, 1.0, 1.0, 1.0] 7\n",
      "[16, 0.5, 0.7739130434782608, 0.8769230769230769, 0.9710144927536232, 1.0, 1.0] 7\n",
      "[32, 0.4482421875, 0.7445573294629898, 0.8940269749518305, 0.9467312348668281, 0.9710982658959537, 0.9931506849315068] 7\n",
      "[64, 0.35325820676139147, 0.6380189366351056, 0.8210831721470019, 0.9149453219927096, 0.9492753623188406, 0.9862542955326461] 7\n",
      "\\begin{table}\n",
      "\t\\begin{center}\n",
      "\t\t\\begin{tabular}{c|c|c|c|c|c|c}\n",
      "\t\t\t- & 0.25 & 0.375 & 0.5 & 0.625 & 0.75 & 0.875 \\\\\n",
      "\t\t\t\\hline\n",
      "\t\t\t2 & NA & NA & NA & 0.960 & 1 & 1 \\\\\n",
      "\t\t\t4 & NA & 0.593 & 0.938 & 1 & 1 & 1 \\\\\n",
      "\t\t\t8 & 0.427 & 0.766 & 0.946 & 1 & 1 & 1 \\\\\n",
      "\t\t\t16 & 0.500 & 0.774 & 0.877 & 0.971 & 1 & 1 \\\\\n",
      "\t\t\t32 & 0.448 & 0.745 & 0.894 & 0.947 & 0.971 & 0.993 \\\\\n",
      "\t\t\t64 & 0.353 & 0.638 & 0.821 & 0.915 & 0.949 & 0.986 \\\\\n",
      "\t\t\\end{tabular}\n",
      "\t\\end{center}\n",
      "\t\\caption{A comparison of rocket features.}\n",
      "\\end{table}\n"
     ]
    }
   ],
   "source": [
    "from texttable import Texttable\n",
    "\n",
    "import latextable\n",
    "\n",
    "perc_dict = {25: 0.25, 375: 0.375, 5: 0.5, 625: 0.625, 75: 0.75, 875: 0.875}\n",
    "perc_list = sorted(perc_dict.values())\n",
    "with open(\"/home/zl310/cs585_project/vmoe/model_encrypted/results.txt\", 'r') as f_ptr:\n",
    "    lines = f_ptr.readlines()\n",
    "    res_dict = {}\n",
    "    for l in lines:\n",
    "        l_split = l.strip()[1:-1].split(\", \")\n",
    "        if l_split[-1] != \"None\":\n",
    "            res_dict[(int(l_split[0])), perc_dict[int(l_split[1])]] = float(l_split[-1])\n",
    "        else:\n",
    "            res_dict[(int(l_split[0])), perc_dict[int(l_split[1])]] = \"NA\"\n",
    "n_c_list = sorted(list(set([k[0] for k in set(res_dict.keys()) if k[0] != 6])))\n",
    "# print(res_dict)\n",
    "table = Texttable()\n",
    "rows = [[p for p in perc_list]]\n",
    "for i in range(len(n_c_list)):\n",
    "    rows.append([n_c_list[i]])\n",
    "    for p in rows[0]:\n",
    "        try:\n",
    "            rows[-1].append(res_dict[(n_c_list[i], p)])\n",
    "        except KeyError:\n",
    "            rows[-1].append('NA')\n",
    "rows[0].insert(0, '-')\n",
    "for r in rows:\n",
    "    print(r, len(r))\n",
    "\n",
    "table.set_cols_align([\"c\"] * (len(perc_dict.keys())+1))\n",
    "table.set_deco(Texttable.HEADER | Texttable.VLINES)\n",
    "table.add_rows(rows)\n",
    "print(latextable.draw_latex(table, caption=\"A comparison of rocket features.\"))"
   ]
  }
 ],
 "metadata": {
  "kernelspec": {
   "display_name": "cs585_tf_google",
   "language": "python",
   "name": "cs585_tf_google"
  },
  "language_info": {
   "codemirror_mode": {
    "name": "ipython",
    "version": 3
   },
   "file_extension": ".py",
   "mimetype": "text/x-python",
   "name": "python",
   "nbconvert_exporter": "python",
   "pygments_lexer": "ipython3",
   "version": "3.10.14"
  }
 },
 "nbformat": 4,
 "nbformat_minor": 2
}
