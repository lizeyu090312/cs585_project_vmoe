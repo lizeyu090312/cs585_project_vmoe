{
 "cells": [
  {
   "cell_type": "code",
   "execution_count": 11,
   "metadata": {},
   "outputs": [
    {
     "name": "stdout",
     "output_type": "stream",
     "text": [
      "(256, 12, 12, 2)\n"
     ]
    },
    {
     "data": {
      "text/plain": [
       "<matplotlib.colorbar.Colorbar at 0x7fca9846af80>"
      ]
     },
     "execution_count": 11,
     "metadata": {},
     "output_type": "execute_result"
    },
    {
     "data": {
      "image/png": "[encoded data removed]",
      "text/plain": [
       "<Figure size 640x480 with 2 Axes>"
      ]
     },
     "metadata": {},
     "output_type": "display_data"
    }
   ],
   "source": [
    "import numpy as np\n",
    "import matplotlib.pyplot as plt\n",
    "import os\n",
    "\n",
    "train_dir = \"/home/zl310/cs585_project/vmoe/expert_assign_train_ImageNetData\"\n",
    "\n",
    "files = os.listdir(train_dir)\n",
    "\n",
    "load1 = np.load(os.path.join(train_dir, files[-565]))\n",
    "print(load1.shape)\n",
    "plt.imshow(load1[0, :, :, 0])\n",
    "plt.colorbar()"
   ]
  },
  {
   "cell_type": "code",
   "execution_count": 2,
   "metadata": {},
   "outputs": [
    {
     "name": "stderr",
     "output_type": "stream",
     "text": [
      "2024-04-10 12:23:38.010439: W tensorflow/compiler/tf2tensorrt/utils/py_utils.cc:38] TF-TRT Warning: Could not find TensorRT\n",
      "/home/zl310/anaconda3/envs/cs585_tf_google/lib/python3.10/site-packages/tqdm/auto.py:21: TqdmWarning: IProgress not found. Please update jupyter and ipywidgets. See https://ipywidgets.readthedocs.io/en/stable/user_install.html\n",
      "  from .autonotebook import tqdm as notebook_tqdm\n"
     ]
    }
   ],
   "source": [
    "import jax\n",
    "from jax import numpy as jnp\n",
    "\n",
    "import tensorflow as tf\n",
    "\n",
    "from vmoe.nn import models\n",
    "from vmoe.data import input_pipeline\n",
    "from vmoe.checkpoints import partitioned\n",
    "\n",
    "from vmoe.configs.vmoe_paper.vmoe_s32_last2_ilsvrc2012_randaug_light1_ft_ilsvrc2012 import get_config, IMAGE_SIZE, BATCH_SIZE\n",
    "\n",
    "\n",
    "model_config = get_config()\n",
    "model_cls = getattr(models, model_config.model.name)\n",
    "model = model_cls(deterministic=True, **model_config.model)\n",
    "\n",
    "# using this model: 'gs://vmoe_checkpoints/vmoe_s32_last2_ilsvrc2012_randaug_light1_ft_ilsvrc2012'\n",
    "# checkpoint_prefix = 'vmoe_s32_last2_ilsvrc2012_randaug_light1_ft_ilsvrc2012'\n",
    "# checkpoint = partitioned.restore_checkpoint(prefix=checkpoint_prefix, tree=None)\n",
    "\n",
    "dataset_config_test = model_config.dataset.test\n",
    "dataset_test = input_pipeline.get_dataset(\n",
    "    variant='test',\n",
    "    name=dataset_config_test.name, \n",
    "    split=dataset_config_test.split, \n",
    "    batch_size=dataset_config_test.batch_size, \n",
    "    process=dataset_config_test.process,\n",
    "    shuffle_seed=20\n",
    ")"
   ]
  },
  {
   "cell_type": "code",
   "execution_count": 3,
   "metadata": {},
   "outputs": [
    {
     "name": "stdout",
     "output_type": "stream",
     "text": [
      "[135 324 582 222 717  18 601 179 368 707 671 365 370 268 383 355 310 809\n",
      " 853  15 534 906 908 234 189 986 460 646 224 644]\n",
      "[993 248 701 987   4 915 413 921 885 123 404 254 704 875 460 449 801 948\n",
      " 827 915 482 656  86 217 395  78 951 472 909 601]\n",
      "[ 47 695 842 819  27 707 144 187 167 768 101 675 289 163 363 660 465 993\n",
      "  90 104 645 539 230 444 717 427 985 310 341  38]\n",
      "[730 573 195 897  26 172 633 346 830 986 355 475 134 321 906 254  68 740\n",
      " 699 785 479 247 643 882 664 393 228 369  82 386]\n",
      "[975 853 161 319  69 398 344 204  98 845  35 160 730 785 434 236  29 571\n",
      " 805 336 566 871 491 526 730 279 178 724 757 928]\n",
      "[327 861 937 894  44 779 512  38 672 314 607 240 340 577 605 499 962 166\n",
      " 395 201  13 533 130 545  36  17 904 599 507 284]\n",
      "[791 725 246 867 229 421 329 410 774 424 722 201 861 111 663 456 400 592\n",
      " 571 541 618 152 984 161 951 131  28 467 316 948]\n",
      "[144 717 917 687 911 802 911 383 445 813 302 610 498 629 659 890 755  41\n",
      " 274 702 747 193 823 652 164 484 178 419 572 195]\n",
      "[314 556 603 915 594 244 278 371  79 631 840 611 228 347 825 548 920 868\n",
      " 145 856 142 334  52 740 860 775 813 309 161 763]\n",
      "[  4 599 406 573 634 987 612 327 778 573 883 263 606 634 372 871 250 127\n",
      "  34 934 617 858 255 825 385 251 774 164 497 549]\n",
      "[644 871 759 667  16  18 988 306 625 844 715 144 609 956 443 763 995 879\n",
      " 995 882 262  34 677  86 112 660 962 209 878 880]\n",
      "[920  20 260 656 869 411 984 489 366 440 698 524 138 238 775  47 146 660\n",
      " 620 804 158 543 606 642 609 650 741 338 380 918]\n"
     ]
    }
   ],
   "source": [
    "i = 0\n",
    "for batch in dataset_test:\n",
    "    mask = batch['__valid__']\n",
    "    true_lbl = np.argmax(batch['labels'], axis=1)\n",
    "    print(true_lbl[20:50])\n",
    "    if i > 10:\n",
    "        break\n",
    "    i += 1\n",
    "    "
   ]
  },
  {
   "cell_type": "code",
   "execution_count": 13,
   "metadata": {},
   "outputs": [
    {
     "name": "stdout",
     "output_type": "stream",
     "text": [
      "set()\n",
      "set()\n",
      "set()\n",
      "set()\n",
      "set()\n",
      "set()\n"
     ]
    }
   ],
   "source": [
    "import os\n",
    "import re\n",
    "def which_batches_are_done(dir_abs_path) -> set:\n",
    "    def extract_last_integer(pattern, filename):\n",
    "        match = re.search(pattern, filename)\n",
    "        if match:\n",
    "            return int(match.group(1))\n",
    "        else:\n",
    "            return None\n",
    "    # pattern = r'y_[0-9a-f]+_batch_(\\d+)_layer_both.npy$'\n",
    "    pattern_y = r'_batch_(\\d+)_layer_both\\.npy$'\n",
    "    pattern_x5 = r'_batch_(\\d+)_layer_5\\.npy$'\n",
    "    pattern_x7 = r'_batch_(\\d+)_layer_7\\.npy$'\n",
    "    files = os.listdir(dir_abs_path)\n",
    "    ret_y, ret_x5, ret_x7 = set(), set(), set()\n",
    "    for file in files:\n",
    "        ret_y.add(extract_last_integer(pattern_y, file))\n",
    "        ret_x5.add(extract_last_integer(pattern_x5, file))\n",
    "        ret_x7.add(extract_last_integer(pattern_x7, file))\n",
    "    ret_y.remove(None)\n",
    "    ret_x5.remove(None)\n",
    "    ret_x7.remove(None)\n",
    "    return ret_y, ret_x5, ret_x7\n",
    "\n",
    "\n",
    "train_dir = \"/home/zl310/cs585_project/vmoe/expert_assign_train_ImageNetData\"\n",
    "ret_y, ret_x5, ret_x7 = which_batches_are_done(train_dir)\n",
    "print(ret_y ^ ret_x5)\n",
    "print(ret_y ^ ret_x7)\n",
    "print(ret_x5 ^ ret_x7)\n",
    "\n",
    "test_dir = \"/home/zl310/cs585_project/vmoe/expert_assign_test_ImageNetData\"\n",
    "ret_y, ret_x5, ret_x7 = which_batches_are_done(test_dir)\n",
    "print(ret_y ^ ret_x5)\n",
    "print(ret_y ^ ret_x7)\n",
    "print(ret_x5 ^ ret_x7)\n",
    "\n",
    "# should print out empty sets for all"
   ]
  }
 ],
 "metadata": {
  "kernelspec": {
   "display_name": "cs585_tf_google",
   "language": "python",
   "name": "cs585_tf_google"
  },
  "language_info": {
   "codemirror_mode": {
    "name": "ipython",
    "version": 3
   },
   "file_extension": ".py",
   "mimetype": "text/x-python",
   "name": "python",
   "nbconvert_exporter": "python",
   "pygments_lexer": "ipython3",
   "version": "3.10.14"
  }
 },
 "nbformat": 4,
 "nbformat_minor": 2
}
