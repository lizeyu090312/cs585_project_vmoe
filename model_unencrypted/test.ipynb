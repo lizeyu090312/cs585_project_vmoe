{
 "cells": [
  {
   "cell_type": "code",
   "execution_count": 1,
   "metadata": {},
   "outputs": [
    {
     "name": "stdout",
     "output_type": "stream",
     "text": [
      "Test Loss=0.5199, Test accuracy=0.8400\n",
      "Test Loss=0.2723, Test accuracy=0.9150\n",
      "Test Loss=0.5005, Test accuracy=0.8600\n",
      "Test Loss=0.9180, Test accuracy=0.7275\n",
      "Test Loss=1.2552, Test accuracy=0.6344\n",
      "Test Loss=1.5819, Test accuracy=0.5781\n",
      "Test Loss=1.8517, Test accuracy=0.5308\n",
      "Test Loss=2.4011, Test accuracy=0.4309\n",
      "Test Loss=2.7367, Test accuracy=0.3786\n",
      "Test Loss=3.1339, Test accuracy=0.3281\n"
     ]
    }
   ],
   "source": [
    "import torch\n",
    "import torch.nn as nn\n",
    "\n",
    "from model_class import ResNet\n",
    "from dataset_utils import get_data_loader\n",
    "from train import out_chan_dict\n",
    "\n",
    "\n",
    "def test(net, batch_size, num_classes, device):\n",
    "    testloader = get_data_loader('test', batch_size, num_classes, shuffle=True)\n",
    "    criterion = nn.CrossEntropyLoss()\n",
    "\n",
    "    net.eval()\n",
    "    test_loss = 0\n",
    "    correct = 0\n",
    "    total = 0\n",
    "    with torch.no_grad():\n",
    "        for _, (inputs, targets) in enumerate(testloader):\n",
    "            inputs, targets = inputs.to(device), targets.to(device)\n",
    "            outputs = net(inputs)\n",
    "            loss = criterion(outputs, targets)\n",
    "\n",
    "            test_loss += loss.item()\n",
    "            _, predicted = outputs.max(1)\n",
    "            total += targets.size(0)\n",
    "            correct += predicted.eq(targets).sum().item()\n",
    "    num_val_steps = len(testloader)\n",
    "    val_acc = correct / total\n",
    "    print(\"Test Loss=%.4f, Test accuracy=%.4f\" % (test_loss / (num_val_steps), val_acc))\n",
    "    return val_acc  # my addition. Originally returns None\n",
    "\n",
    "\n",
    "device = torch.device('cuda:1' if torch.cuda.is_available() else 'cpu')\n",
    "save_name = \"/home/zl310/cs585_project/vmoe/model_unencrypted/unencrypted_performance.txt\"\n",
    "with open(save_name, 'w') as f_ptr:\n",
    "    f_ptr.write(\"num_classes,classification_accuracy\\n\")\n",
    "    for num_classes in out_chan_dict.keys():\n",
    "        net = ResNet(num_classes, out_chan=out_chan_dict[num_classes]).to(device)\n",
    "        net.load_state_dict(torch.load(f\"./checkpoints/resnet_{num_classes}.pt\"))\n",
    "        f_ptr.write(\"%d,%.6f\\n\" % (num_classes, test(net, batch_size=64, num_classes=num_classes, device=device)))"
   ]
  }
 ],
 "metadata": {
  "kernelspec": {
   "display_name": "cs585_pytorch",
   "language": "python",
   "name": "python3"
  },
  "language_info": {
   "codemirror_mode": {
    "name": "ipython",
    "version": 3
   },
   "file_extension": ".py",
   "mimetype": "text/x-python",
   "name": "python",
   "nbconvert_exporter": "python",
   "pygments_lexer": "ipython3",
   "version": "3.8.0"
  }
 },
 "nbformat": 4,
 "nbformat_minor": 2
}
