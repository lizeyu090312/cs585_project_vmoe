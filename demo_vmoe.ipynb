{
  "cells": [
    {
      "cell_type": "code",
      "execution_count": 1,
      "metadata": {
        "id": "8lQf6R1BOYlp"
      },
      "outputs": [
        {
          "name": "stderr",
          "output_type": "stream",
          "text": [
            "2024-04-09 23:59:51.782958: W tensorflow/compiler/tf2tensorrt/utils/py_utils.cc:38] TF-TRT Warning: Could not find TensorRT\n",
            "/home/zl310/anaconda3/envs/cs585_tf_google/lib/python3.10/site-packages/tqdm/auto.py:21: TqdmWarning: IProgress not found. Please update jupyter and ipywidgets. See https://ipywidgets.readthedocs.io/en/stable/user_install.html\n",
            "  from .autonotebook import tqdm as notebook_tqdm\n"
          ]
        }
      ],
      "source": [
        "import jax\n",
        "from jax import numpy as jnp\n",
        "\n",
        "import tensorflow as tf\n",
        "\n",
        "from vmoe.nn import models\n",
        "from vmoe.data import input_pipeline\n",
        "from vmoe.checkpoints import partitioned\n",
        "\n",
        "from vmoe.configs.vmoe_paper.vmoe_s32_last2_ilsvrc2012_randaug_light1_ft_ilsvrc2012 import get_config, IMAGE_SIZE, BATCH_SIZE\n",
        "\n",
        "import numpy as np\n",
        "import matplotlib.pyplot as plt\n",
        "\n",
        "import os\n",
        "import uuid \n",
        "import tqdm\n",
        "import logging\n",
        "\n",
        "logging.basicConfig(filename='vmoe_datagen.log',level=logging.DEBUG, format='%(asctime)s %(message)s')\n",
        "\n",
        "# change configuration in the above file.\n",
        "os.environ['CUDA_VISIBLE_DEVICES'] = ''\n",
        "_ = \"\"\"\n",
        "Adapted from vmoe/notebooks/demo_eee_CIFAR100.ipynb by Michael Li\n",
        "Structure:\n",
        "vmoe\n",
        "    vmoe/\n",
        "    this notebook\n",
        "    vit_jax/ (from vision_transformer)\n",
        "    vmoe_s32_last2_ilsvrc2012_randaug_light1_ft_ilsvrc2012.data-00000-of-00001\n",
        "    vmoe_s32_last2_ilsvrc2012_randaug_light1_ft_ilsvrc2012.index\n",
        "\"\"\""
      ]
    },
    {
      "cell_type": "markdown",
      "metadata": {
        "id": "V_6jHA1f_ef3"
      },
      "source": [
        "### Construct model"
      ]
    },
    {
      "cell_type": "code",
      "execution_count": 2,
      "metadata": {
        "id": "J2MwqMchM1yY"
      },
      "outputs": [],
      "source": [
        "model_config = get_config()\n",
        "# print(model_config)\n",
        "model_cls = getattr(models, model_config.model.name)\n",
        "model = model_cls(deterministic=True, **model_config.model)\n",
        "# print(type(model))\n",
        "# print(model_config)"
      ]
    },
    {
      "cell_type": "markdown",
      "metadata": {
        "id": "djlprye0_oOd"
      },
      "source": [
        "### Load weights"
      ]
    },
    {
      "cell_type": "code",
      "execution_count": 3,
      "metadata": {
        "id": "wcDwZbA3coMY"
      },
      "outputs": [
        {
          "name": "stderr",
          "output_type": "stream",
          "text": [
            "An NVIDIA GPU may be present on this machine, but a CUDA-enabled jaxlib is not installed. Falling back to cpu.\n"
          ]
        },
        {
          "name": "stdout",
          "output_type": "stream",
          "text": [
            "dict_keys(['Encoder', 'cls', 'embedding', 'head'])\n"
          ]
        }
      ],
      "source": [
        "# using this model: 'gs://vmoe_checkpoints/vmoe_s32_last2_ilsvrc2012_randaug_light1_ft_ilsvrc2012'\n",
        "checkpoint_prefix = 'vmoe_s32_last2_ilsvrc2012_randaug_light1_ft_ilsvrc2012'\n",
        "checkpoint = partitioned.restore_checkpoint(prefix=checkpoint_prefix, tree=None)\n",
        "\n",
        "print(checkpoint.keys())"
      ]
    },
    {
      "cell_type": "markdown",
      "metadata": {
        "id": "v2yxvTOt_r-8"
      },
      "source": [
        "### Create dataset"
      ]
    },
    {
      "cell_type": "code",
      "execution_count": 4,
      "metadata": {
        "id": "yt4gIiYRTFog"
      },
      "outputs": [
        {
          "name": "stderr",
          "output_type": "stream",
          "text": [
            "2024-04-09 23:59:55.232971: E external/local_xla/xla/stream_executor/cuda/cuda_driver.cc:282] failed call to cuInit: CUDA_ERROR_NO_DEVICE: no CUDA-capable device is detected\n",
            "0it [01:27, ?it/s]"
          ]
        },
        {
          "name": "stdout",
          "output_type": "stream",
          "text": [
            "[[5 6 6 6 6 6 5 5 5 5 5 5]\n",
            " [6 6 6 6 6 6 5 5 5 5 5 5]\n",
            " [6 6 6 6 5 5 5 7 7 7 5 5]\n",
            " [6 6 6 5 5 5 7 7 7 5 5 5]\n",
            " [5 7 7 7 7 7 7 7 7 5 6 5]\n",
            " [7 7 7 7 7 7 7 7 7 5 6 5]\n",
            " [7 7 7 7 7 7 7 7 7 5 5 5]\n",
            " [5 7 7 7 7 7 7 7 7 5 5 5]\n",
            " [6 5 6 7 5 7 4 7 7 3 5 5]\n",
            " [6 6 6 6 6 6 5 7 7 3 3 4]\n",
            " [6 6 6 6 6 6 6 5 6 5 4 5]\n",
            " [5 6 6 6 6 6 6 6 6 6 6 6]]\n",
            "[[5 6 6 6 6 6 5 5 5 5 5 5]\n",
            " [6 6 6 6 6 6 5 5 5 5 5 5]\n",
            " [6 6 6 6 5 5 5 7 7 7 5 5]\n",
            " [6 6 6 5 5 5 7 7 7 5 5 5]\n",
            " [5 7 7 7 7 7 7 7 7 5 6 5]\n",
            " [7 7 7 7 7 7 7 7 7 5 6 5]\n",
            " [7 7 7 7 7 7 7 7 7 5 5 5]\n",
            " [5 7 7 7 7 7 7 7 7 5 5 5]\n",
            " [6 5 6 7 5 7 4 7 7 3 5 5]\n",
            " [6 6 6 6 6 6 5 7 7 3 3 4]\n",
            " [6 6 6 6 6 6 6 5 6 5 4 5]\n",
            " [5 6 6 6 6 6 6 6 6 6 6 6]]\n"
          ]
        },
        {
          "name": "stderr",
          "output_type": "stream",
          "text": [
            "\n"
          ]
        }
      ],
      "source": [
        "dataset_config_test = model_config.dataset.test\n",
        "dataset_test = input_pipeline.get_dataset(\n",
        "    variant='test',\n",
        "    name=dataset_config_test.name, \n",
        "    split=dataset_config_test.split, \n",
        "    batch_size=dataset_config_test.batch_size, \n",
        "    process=dataset_config_test.process\n",
        ")\n",
        "\n",
        "# dataset_config_test_real = model_config.dataset.test_real\n",
        "# dataset_test_real = input_pipeline.get_dataset(\n",
        "#     variant='test',\n",
        "#     name=dataset_config_test_real.name, \n",
        "#     split=dataset_config_test_real.split, \n",
        "#     batch_size=dataset_config_test_real.batch_size, \n",
        "#     process=dataset_config_test_real.process\n",
        "# )\n",
        "\n",
        "def process_indices(indices_distr: dict[str: jnp.ndarray], batch_idx: int, mask,\n",
        "                    class_lbl, fdir, batch_sz=BATCH_SIZE, img_sz: int = int(np.sqrt(144))):\n",
        "    # img_sz * img_sz == number of tiles/patches in each 384*384 image. There are 144 tiles per image.\n",
        "    class_lbl = np.array(class_lbl, dtype=np.uint16) * mask  # 2^16 = 65,536 > 1000\n",
        "    img5 = np.zeros(shape=(batch_sz, int(img_sz * img_sz)), dtype=np.uint8)\n",
        "    img7 = np.zeros(shape=(batch_sz, int(img_sz * img_sz)), dtype=np.uint8)\n",
        "\n",
        "    exp, n, _ = indices_distr['idx_5'].shape\n",
        "    for img, layer in zip([img5, img7], [indices_distr['idx_5'], indices_distr['idx_7']]):\n",
        "        for expert in range(exp):\n",
        "            for buf in range(n):\n",
        "                if layer[expert, buf, 0] != 0 and layer[expert, buf, 1] != 0:\n",
        "                    b_idx, p_idx = int(layer[expert, buf, 0]), int(layer[expert, buf, 1])\n",
        "                    img[b_idx-1, p_idx-1] = expert  # img[batch_idx, patch_idx] = expert_id, 1-indexing\n",
        "    img5_reshaped = img5.reshape(batch_sz, img_sz, img_sz)\n",
        "    img7_reshaped = img7.reshape(batch_sz, img_sz, img_sz)\n",
        "    if jnp.sum(mask) != batch_sz:\n",
        "        img5_reshaped = img5_reshaped[mask]\n",
        "        img7_reshaped = img7_reshaped[mask]\n",
        "        logging.info(f\"jnp.sum(mask) != batch_sz for batch_idx = {batch_idx}, jnp.sum(mask) = {jnp.sum(mask)}, batch_sz = {batch_sz}\")\n",
        "    ID = uuid.uuid4()\n",
        "    np.save(os.path.join(fdir, f\"x_{ID}_batch_{batch_idx}_layer_5.npy\"), img5_reshaped)\n",
        "    np.save(os.path.join(fdir, f\"x_{ID}_batch_{batch_idx}_layer_7.npy\"), img7_reshaped)\n",
        "\n",
        "    np.save(os.path.join(fdir, f\"y_{ID}_batch_{batch_idx}_layer_both.npy\"), class_lbl)\n",
        "    logging.info(f\"finished for batch_idx = {batch_idx}\")\n",
        "    # indices_distr has shape (8, 55808, 512) for batch_size = 1024\n",
        "    return\n",
        "\n",
        "\n",
        "def gen_data(model, dataset, checkpoint, save_dir):\n",
        "    ncorrect = 0\n",
        "    ntotal = 0\n",
        "    i = 0\n",
        "    logging.info('-' * 10)\n",
        "    logging.info('-' * 10)\n",
        "    logging.info(f\"start of generation file for save_dir = {save_dir}, BATCH_SIZE = {BATCH_SIZE}\")\n",
        "    for batch in tqdm.tqdm(dataset):\n",
        "        # The final batch has been padded with fake examples so that the batch size is\n",
        "        # the same as all other batches. The mask tells us which examples are fake.\n",
        "        mask = batch['__valid__']\n",
        "        # if jnp.sum(mask) != BATCH_SIZE:  # if there are some padded fake data inside of the current batch\n",
        "        #     break\n",
        "        # print(mask.shape)  # array of shape batch_size with boolean\n",
        "        # plt.imshow(batch['image'][0])\n",
        "        # print(jnp.argmax(batch['labels'], axis=1)[0])\n",
        "        logits, _, indices_distr = model.apply({'params': checkpoint}, batch['image'])\n",
        "    \n",
        "        log_p = jax.nn.log_softmax(logits)\n",
        "        preds = jnp.argmax(log_p, axis=1)\n",
        "        true_lbl = jnp.argmax(batch['labels'], axis=1)\n",
        "        # process_indices(indices_distr, class_lbl=true_lbl, fdir='/home/zl310/cs585_project/vmoe/expert_assign')\n",
        "        process_indices(indices_distr, mask=mask, batch_idx=i, class_lbl=true_lbl, fdir=save_dir)\n",
        "\n",
        "        ncorrect += jnp.sum((preds == true_lbl) * mask)\n",
        "        ntotal += jnp.sum(mask)\n",
        "        if i % 10 == 0:\n",
        "          logging.info(f'Test accuracy, iteration {i}: {ncorrect / ntotal * 100:.2f}%')\n",
        "        i += 1\n",
        "    print(f'Test accuracy: {ncorrect / ntotal * 100:.2f}%')\n",
        "    # return indices_distr\n",
        "\n",
        "# ind_dist = gen_data(model, dataset_test, checkpoint)\n",
        "gen_data(model, dataset_test, checkpoint, save_dir='/home/zl310/cs585_project/vmoe/expert_assign_test_ImageNetData')"
      ]
    },
    {
      "cell_type": "code",
      "execution_count": 14,
      "metadata": {},
      "outputs": [
        {
          "name": "stdout",
          "output_type": "stream",
          "text": [
            "(12, 12)\n"
          ]
        },
        {
          "data": {
            "text/plain": [
              "<matplotlib.colorbar.Colorbar at 0x7fd0b02ae380>"
            ]
          },
          "execution_count": 14,
          "metadata": {},
          "output_type": "execute_result"
        },
        {
          "data": {
            "image/png": "[encoded data removed]",
            "text/plain": [
              "<Figure size 640x480 with 2 Axes>"
            ]
          },
          "metadata": {},
          "output_type": "display_data"
        }
      ],
      "source": [
        "plt.imshow(i5[7])\n",
        "print(i5[0].shape)\n",
        "plt.colorbar()"
      ]
    },
    {
      "cell_type": "code",
      "execution_count": 6,
      "metadata": {},
      "outputs": [],
      "source": [
        "# i, j, k = ind_dist['idx_5'].shape\n",
        "# dd = {}\n",
        "# for ii in range(i):\n",
        "#     for jj in range(j):\n",
        "#         if int(ind_dist['idx_5'][ii, jj, 0]) != 0:\n",
        "#             mul = int(ind_dist['idx_5'][ii, jj, 0] - 1) * 145 + int(ind_dist['idx_5'][ii, jj, 1] - 1)\n",
        "#             if mul not in dd.keys():\n",
        "#                 dd[mul] = 1\n",
        "#             else:\n",
        "#                 dd[mul] += 1\n",
        "\n",
        "# # for key in dd.keys():\n",
        "# #     if dd[key] == 66:\n",
        "# #         print(key)\n",
        "# # print(max(dd.values()))\n",
        "# plt.bar(np.array(list(dd.keys())), np.array(list(dd.values())))\n",
        "# plt.xlabel(\"patch index\")\n",
        "# plt.ylabel(\"number of times the patch is assigned\")"
      ]
    },
    {
      "cell_type": "code",
      "execution_count": 16,
      "metadata": {},
      "outputs": [
        {
          "name": "stdout",
          "output_type": "stream",
          "text": [
            "[[[1. 1. 1. 1. 1. 1.]\n",
            "  [1. 1. 1. 1. 1. 1.]\n",
            "  [1. 1. 1. 1. 1. 1.]\n",
            "  [1. 1. 1. 1. 1. 1.]\n",
            "  [1. 1. 1. 1. 1. 1.]\n",
            "  [1. 1. 1. 1. 1. 1.]]\n",
            "\n",
            " [[1. 1. 1. 1. 1. 1.]\n",
            "  [1. 1. 1. 1. 1. 1.]\n",
            "  [1. 1. 1. 1. 1. 1.]\n",
            "  [1. 1. 1. 1. 1. 1.]\n",
            "  [1. 1. 1. 1. 1. 1.]\n",
            "  [1. 1. 1. 1. 1. 1.]]\n",
            "\n",
            " [[1. 1. 1. 1. 1. 1.]\n",
            "  [1. 1. 1. 1. 1. 1.]\n",
            "  [1. 1. 1. 1. 1. 1.]\n",
            "  [1. 1. 1. 1. 1. 1.]\n",
            "  [1. 1. 1. 1. 1. 1.]\n",
            "  [1. 1. 1. 1. 1. 1.]]]\n"
          ]
        }
      ],
      "source": [
        "# # print(np.average(list(dd.values())))\n",
        "# img = np.zeros(shape=(256, int(12 * 12)))\n",
        "# for i in range(12*12):\n",
        "#     img[0, i] = i+1\n",
        "# new_img = img.reshape(256, 12, 12)\n",
        "# print(img[0])\n",
        "# print(new_img[0])\n",
        "mask = np.array([True, True, True, False, False], dtype=np.bool_)\n",
        "data = np.ones(shape=(5, 6, 6))\n",
        "print(data[mask])"
      ]
    }
  ],
  "metadata": {
    "colab": {
      "collapsed_sections": [],
      "last_runtime": {
        "build_target": "//learning/deepmind/public/tools/ml_python:ml_notebook",
        "kind": "private"
      },
      "provenance": [
        {
          "file_id": "1etGGfOO1WjJmEDyWqdNz5XgSMsVb5Z_d",
          "timestamp": 1662960558723
        }
      ]
    },
    "kernelspec": {
      "display_name": "cs585_tf_google",
      "language": "python",
      "name": "cs585_tf_google"
    },
    "language_info": {
      "codemirror_mode": {
        "name": "ipython",
        "version": 3
      },
      "file_extension": ".py",
      "mimetype": "text/x-python",
      "name": "python",
      "nbconvert_exporter": "python",
      "pygments_lexer": "ipython3",
      "version": "3.10.14"
    }
  },
  "nbformat": 4,
  "nbformat_minor": 0
}
